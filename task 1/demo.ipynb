{
 "cells": [
  {
   "cell_type": "markdown",
   "id": "134eb609",
   "metadata": {},
   "source": [
    "Demonstration Task 1: MNIST Classification with OOP\n",
    "This notebook demonstrates the use of the MnistClassifier class, which implements the Facade and Strategy patterns to select one of three MNIST classification algorithms: Random Forest (rf), Feed-Forward Neural Network (nn), and Convolutional Neural Network (cnn).\n",
    "\n",
    "1. Setup and Data Loading\n",
    "First, we will load the required libraries and the MNIST dataset."
   ]
  },
  {
   "cell_type": "code",
   "execution_count": 1,
   "id": "7665d023",
   "metadata": {},
   "outputs": [
    {
     "name": "stdout",
     "output_type": "stream",
     "text": [
      "X_train shape: (8000, 28, 28)\n",
      "X_val shape: (2000, 28, 28)\n",
      "X_test shape (for final testing): (5000, 28, 28)\n"
     ]
    }
   ],
   "source": [
    "import numpy as np\n",
    "from sklearn.model_selection import train_test_split\n",
    "from sklearn.metrics import accuracy_score\n",
    "from torchvision.datasets import MNIST\n",
    "from torchvision import transforms\n",
    "import torch\n",
    "\n",
    "# Import our main class\n",
    "from mnist_classifiers import MnistClassifier \n",
    "\n",
    "# Loading and preprocessing MNIST data\n",
    "def load_and_preprocess_mnist():\n",
    "    \"\"\"Loads the MNIST dataset and returns it as NumPy arrays for models.\"\"\"\n",
    "    \n",
    "    # Use torchvision for easy loading and normalization\n",
    "    transform = transforms.Compose([\n",
    "        transforms.ToTensor(),\n",
    "        transforms.Normalize((0.1307,), (0.3081,))\n",
    "    ])\n",
    "    \n",
    "    # Load training and test sets (only 10,000 samples for faster demo)\n",
    "    train_dataset = MNIST('./data', train=True, download=True, transform=transform)\n",
    "    test_dataset = MNIST('./data', train=False, download=True, transform=transform)\n",
    "\n",
    "    # Convert PyTorch Tensors to NumPy arrays\n",
    "    # Use only 10,000 samples for a quick demonstration\n",
    "    X_full = train_dataset.data.numpy()[:10000]\n",
    "    y_full = train_dataset.targets.numpy()[:10000]\n",
    "    \n",
    "    X_test_full = test_dataset.data.numpy()[:5000]\n",
    "    y_test_full = test_dataset.targets.numpy()[:5000]\n",
    "\n",
    "    # Normalize pixel values to [0, 1] range for ML/NN models\n",
    "    X_full = X_full.astype('float32') / 255.0\n",
    "    X_test_full = X_test_full.astype('float32') / 255.0\n",
    "\n",
    "    # Split into training and validation sets\n",
    "    X_train, X_val, y_train, y_val = train_test_split(\n",
    "        X_full, y_full, test_size=0.2, random_state=42\n",
    "    )\n",
    "    \n",
    "    print(f\"X_train shape: {X_train.shape}\")\n",
    "    print(f\"X_val shape: {X_val.shape}\")\n",
    "    print(f\"X_test shape (for final testing): {X_test_full.shape}\")\n",
    "    \n",
    "    return X_train, y_train, X_val, y_val, X_test_full, y_test_full\n",
    "\n",
    "# Load and preprocess the data\n",
    "X_train, y_train, X_val, y_val, X_test, y_test = load_and_preprocess_mnist()\n"
   ]
  },
  {
   "cell_type": "markdown",
   "id": "b8820594",
   "metadata": {},
   "source": [
    "2. Demonstration of the Classifier (Random Forest)\n",
    "We use MnistClassifier with the rf parameter."
   ]
  },
  {
   "cell_type": "code",
   "execution_count": 2,
   "id": "06311306",
   "metadata": {},
   "outputs": [
    {
     "name": "stdout",
     "output_type": "stream",
     "text": [
      "--- Testing Random Forest (rf) ---\n",
      "Initialized MnistClassifier with rf algorithm.\n",
      "Random Forest model trained with n_estimators=50.\n",
      "Algorithm used: RFClassifier\n",
      "Validation accuracy (RF): 0.9495\n"
     ]
    }
   ],
   "source": [
    "print(\"--- Testing Random Forest (rf) ---\")\n",
    "\n",
    "# Initialization: the facade creates an RFClassifier object\n",
    "rf_classifier = MnistClassifier(algorithm='rf') \n",
    "\n",
    "# Training: call the single 'train' method. Additional parameters are passed inside.\n",
    "# Note that the data doesn’t need to be modified — it will be preprocessed internally.\n",
    "rf_classifier.train(X_train, y_train, n_estimators=50)\n",
    "\n",
    "# Prediction: call the single 'predict' method\n",
    "rf_predictions = rf_classifier.predict(X_val)\n",
    "rf_accuracy = accuracy_score(y_val, rf_predictions)\n",
    "\n",
    "print(f\"Algorithm used: {rf_classifier.get_algorithm_name()}\")\n",
    "print(f\"Validation accuracy (RF): {rf_accuracy:.4f}\")\n"
   ]
  },
  {
   "cell_type": "markdown",
   "id": "114dd70c",
   "metadata": {},
   "source": [
    "3. Classifier Demonstration (Feed-Forward Neural Network)\n",
    "We use MnistClassifier with the parameter nn."
   ]
  },
  {
   "cell_type": "code",
   "execution_count": 3,
   "id": "91ff5176",
   "metadata": {},
   "outputs": [
    {
     "name": "stdout",
     "output_type": "stream",
     "text": [
      "\n",
      "--- Testing Feed-Forward Neural Network (nn) ---\n",
      "Initialized MnistClassifier with nn algorithm.\n",
      "PyTorch model trained on cpu.\n",
      "Algorithm used: NNClassifier\n",
      "Validation accuracy (FNN): 0.9420\n"
     ]
    }
   ],
   "source": [
    "print(\"\\n--- Testing Feed-Forward Neural Network (nn) ---\")\n",
    "\n",
    "# Initialization: the facade creates an NNClassifier object\n",
    "nn_classifier = MnistClassifier(algorithm='nn')\n",
    "\n",
    "# Training: train using default parameters (epochs=5)\n",
    "nn_classifier.train(X_train, y_train, epochs=5)\n",
    "\n",
    "# Prediction\n",
    "nn_predictions = nn_classifier.predict(X_val)\n",
    "nn_accuracy = accuracy_score(y_val, nn_predictions)\n",
    "\n",
    "print(f\"Algorithm used: {nn_classifier.get_algorithm_name()}\")\n",
    "print(f\"Validation accuracy (FNN): {nn_accuracy:.4f}\")\n"
   ]
  },
  {
   "cell_type": "markdown",
   "id": "2fdd362b",
   "metadata": {},
   "source": [
    "4. Classifier Demonstration (Convolutional Neural Network)\n",
    "We use MnistClassifier with the cnn parameter. CNN usually gives the best results on MNIST."
   ]
  },
  {
   "cell_type": "code",
   "execution_count": 4,
   "id": "848f579f",
   "metadata": {},
   "outputs": [
    {
     "name": "stdout",
     "output_type": "stream",
     "text": [
      "\n",
      "--- Testing Convolutional Neural Network (cnn) ---\n",
      "Initialized MnistClassifier with cnn algorithm.\n",
      "PyTorch model trained on cpu.\n",
      "Algorithm used: CNNClassifier\n",
      "Validation accuracy (CNN): 0.9780\n"
     ]
    }
   ],
   "source": [
    "print(\"\\n--- Testing Convolutional Neural Network (cnn) ---\")\n",
    "\n",
    "# Initialization: the facade creates a CNNClassifier object\n",
    "cnn_classifier = MnistClassifier(algorithm='cnn')\n",
    "\n",
    "# Training: train using default parameters (epochs=5)\n",
    "cnn_classifier.train(X_train, y_train, epochs=5)\n",
    "\n",
    "# Prediction\n",
    "cnn_predictions = cnn_classifier.predict(X_val)\n",
    "cnn_accuracy = accuracy_score(y_val, cnn_predictions)\n",
    "\n",
    "print(f\"Algorithm used: {cnn_classifier.get_algorithm_name()}\")\n",
    "print(f\"Validation accuracy (CNN): {cnn_accuracy:.4f}\")\n",
    "\n"
   ]
  },
  {
   "cell_type": "markdown",
   "id": "d60294de",
   "metadata": {},
   "source": [
    "5. Edge Cases Check (Non-Existing Algorithm)\n",
    "Checking for correct error handling when selecting a non-existent algorithm."
   ]
  },
  {
   "cell_type": "code",
   "execution_count": 5,
   "id": "1a545dcc",
   "metadata": {},
   "outputs": [
    {
     "name": "stdout",
     "output_type": "stream",
     "text": [
      "\n",
      "--- Testing Edge Cases (Unknown algorithm) ---\n",
      "Expected error: Unknown algorithm 'svm'. Must be one of: ['rf', 'nn', 'cnn']\n"
     ]
    }
   ],
   "source": [
    "print(\"\\n--- Testing Edge Cases (Unknown algorithm) ---\")\n",
    "try:\n",
    "    _ = MnistClassifier(algorithm='svm')\n",
    "except ValueError as e:\n",
    "    print(f\"Expected error: {e}\")\n"
   ]
  }
 ],
 "metadata": {
  "kernelspec": {
   "display_name": "base",
   "language": "python",
   "name": "python3"
  },
  "language_info": {
   "codemirror_mode": {
    "name": "ipython",
    "version": 3
   },
   "file_extension": ".py",
   "mimetype": "text/x-python",
   "name": "python",
   "nbconvert_exporter": "python",
   "pygments_lexer": "ipython3",
   "version": "3.11.5"
  }
 },
 "nbformat": 4,
 "nbformat_minor": 5
}
